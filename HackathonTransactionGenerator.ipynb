# -*- coding: utf-8 -*-
"""
Created on Wed Oct 11 11:39:55 2023

@author: ABTS729
"""
# Program to generate a random number between 0 and 9

# importing the random module

import pandas as pd
import random
import secrets
import string
from datetime import datetime
from datetime import date
from datetime import timedelta


the_dir = "C:\\Users\\abts729\\Documents\\hackathon\\"
data_generation_dir = the_dir + "generated_data\\"
shop_file = the_dir + "List_of_shops.xlsx"
price_range_file = the_dir +"category_list_price_range.csv"
final_category_file = the_dir + "final_category_list.csv"

the_customer_key_file = data_generation_dir + "selected_customers_v3.csv"
the_transaction_file = data_generation_dir + "transaction_list.csv"

df_shops = pd.read_excel(shop_file,sheet_name = "Shops")
df_shops = df_shops[["CATEGORY","SHOP_NAME"]]
df_shops = df_shops[pd.notnull(df_shops["SHOP_NAME"])]
df_shops["CATEGORY"] = df_shops["CATEGORY"].str.upper().str.strip()
df_shops["SHOP_NAME"] = df_shops["SHOP_NAME"].str.upper().str.strip()

df_shops = df_shops.drop_duplicates()
df_shops.sort_values(["CATEGORY","SHOP_NAME"])
df_shops.to_csv(the_dir +"shops_tmp.csv",index=None)
df_categories = df_shops[["CATEGORY"]].drop_duplicates()
df_price_range = pd.read_csv(price_range_file)
df_categories = df_price_range.merge(df_categories,how="outer",on = "CATEGORY")
df_categories.to_csv(the_dir + "category_list.csv",index=None)


   
df_categories = pd.read_csv(final_category_file)
number_of_fixed_categories = len(df_categories.index)


the_start_date = "2020-10-01"
the_end_date = "2023-09-30"
start_date = datetime.strptime(the_start_date,'%Y-%m-%d')
end_date = datetime.strptime(the_end_date,'%Y-%m-%d')

possible_number_of_categories = 5
possible_number_of_transactions = 8

number_of_customers = 100000
with open(the_customer_key_file,'w') as outfiles_customer:
    outfiles_customer.write("CUSTOMER_KEY")
    for i in range(0,possible_number_of_categories):
        outfiles_customer.write("," + "CATEGORY_" +str(i))
    outfiles_customer.write("\n")
    with open(the_transaction_file,'w') as outfile:
        outfile.write(",".join(["CUSTOMER_KEY","DATE","SHOP_CATEGORY","SHOP_NAME","PRICE"]) +"\n")
        
        
        for customer_no in range(number_of_customers):
            #generate customer_key
            ascii_length = 7
            customer_key = ''.join(secrets.choice(string.ascii_uppercase) for i in range(ascii_length)) + " " + str(random.randint(1,999))
            print(customer_key)
            outfiles_customer.write(customer_key )
            
            #Choose a random number of categories
            the_number_of_categories = random.randint(0,possible_number_of_categories)    
            print("Number of categories selected: " + str(the_number_of_categories))
            
            
            for category_number in range(0,the_number_of_categories):
                the_category = df_categories.iloc[0,0]
                the_min_price = df_categories.iloc[0,1]
                the_max_price = df_categories.iloc[0,2]/10
                
                
                if category_number > 0:
                    the_category_selected = 1+ random.randint(0,number_of_fixed_categories-2)
                    print("Category number: " + str(the_category_selected))
                    the_category = df_categories.iloc[the_category_selected,0]
                    the_min_price = df_categories.iloc[the_category_selected,1]
                    the_max_price = df_categories.iloc[the_category_selected,2]
                outfiles_customer.write("," + the_category)
                print(the_category +" " + str(the_min_price) + " " + str(the_max_price))
                df_shops_selected = df_shops[df_shops["CATEGORY"].str.find(the_category)>=0]
                #print(df_shops_selected)
                number_of_possible_shops = len(df_shops_selected.index)
                
                
                    
                current_month = start_date.month
                current_year =  start_date.year
                if current_month == 12:
                    tmp_end_date = date(current_year+1,1,1)
                else:
                    tmp_end_date = date(current_year,current_month+1,1)-timedelta(days=1)
                tmp_start_date = date(current_year,current_month,1)
                while tmp_end_date < end_date.date():
                    #print(tmp_start_date.strftime('%Y-%m-%d') + " : " +tmp_end_date.strftime('%Y-%m-%d'))
    
                        #Choose a random number of transactions per month
                    the_number_of_transactions = random.randint(0,possible_number_of_transactions)
                    for the_transaction_number in range(0,the_number_of_transactions):
                        transaction_date = tmp_start_date + (tmp_end_date - tmp_start_date) * random.random() 
                        the_price = min(float(random.randint(the_min_price,the_max_price)),float(random.randint(the_min_price,the_max_price)),float(random.randint(the_min_price,the_max_price))) + (random.randint(0,100)/100)
                        
                        shop_number = random.randint(0,number_of_possible_shops-1)
                        shop_name = df_shops_selected.iloc[shop_number,1]
                        
                        outfile.write(",".join([customer_key,transaction_date.strftime('%Y-%m-%d'),the_category,shop_name,str(round(the_price,2))]) +"\n")
                        #transaction_value = random.randint()
                        #print(transaction_date.strftime('%Y-%m-%d') + " " + shop_name + " " + str(the_price))   
                    
                    tmp_start_date = tmp_end_date +timedelta(days=1)
                    current_month = tmp_start_date.month
                    current_year =  tmp_start_date.year
                    if current_month == 12:
                        tmp_end_date = date(current_year+1,1,1)
                    else:
                        tmp_end_date = date(current_year,current_month+1,1)-timedelta(days=1)
            outfiles_customer.write("\n")

print(random.randint(0,9))

df_transactions = pd.read_csv(the_transaction_file,encoding="latin1")
df_transactions = df_transactions.sort_values("DATE")
df_transactions.to_csv(data_generation_dir + "transaction_list_v3.csv",index=None)

 


 

# initializing size of string
N = 7
 
# using secrets.choice()
# generating random strings
 





